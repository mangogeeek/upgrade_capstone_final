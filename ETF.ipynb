{
  "cells": [
    {
      "cell_type": "markdown",
      "metadata": {
        "id": "view-in-github",
        "colab_type": "text"
      },
      "source": [
        "<a href=\"https://colab.research.google.com/github/mangogeeek/upgrade_capstone_final/blob/main/ETF.ipynb\" target=\"_parent\"><img src=\"https://colab.research.google.com/assets/colab-badge.svg\" alt=\"Open In Colab\"/></a>"
      ]
    },
    {
      "cell_type": "code",
      "execution_count": 8,
      "id": "37432c53-ad0a-43e1-a76f-9d229793f918",
      "metadata": {
        "id": "37432c53-ad0a-43e1-a76f-9d229793f918"
      },
      "outputs": [],
      "source": [
        "import pandas as pd\n",
        "from googleapiclient.discovery import build\n",
        "from google.oauth2.credentials import Credentials"
      ]
    },
    {
      "cell_type": "code",
      "execution_count": 9,
      "id": "2c723ebe-1c10-4de0-8c2d-482fc6bddf8c",
      "metadata": {
        "id": "2c723ebe-1c10-4de0-8c2d-482fc6bddf8c"
      },
      "outputs": [],
      "source": [
        "path = \"https://docs.google.com/spreadsheets/d/e/2PACX-1vSNaropiQfW4wt_mw0Wf8zSC5ztpxd9Hoo6I0dF94BfZr1CmKAZoHiCX_mf1JMqrh2C0OZMZmY6GLcJ/pub?gid=0&single=true&output=csv\"\n",
        "table_data= pd.read_csv(path)"
      ]
    },
    {
      "cell_type": "code",
      "execution_count": 10,
      "id": "f405a04e-76c9-45d7-9b23-58121a009e09",
      "metadata": {
        "id": "f405a04e-76c9-45d7-9b23-58121a009e09"
      },
      "outputs": [],
      "source": [
        "import pandas as pd\n",
        "\n",
        "# Assuming you have the 'table_data' DataFrame loaded\n",
        "\n",
        "def extract_rsi_from_url(url):\n",
        "    # Read HTML tables from the URL\n",
        "    tables = pd.read_html(url)\n",
        "\n",
        "    if len(tables) > 1:  # Assuming the RSI table is the second table (index 1)\n",
        "        rsi_table = tables[2]\n",
        "        # Extract RSI value from iloc[0, 1] (row 0, column 1)\n",
        "        rsi_value = float(rsi_table.iloc[0, 1])\n",
        "        return rsi_value\n",
        "    else:\n",
        "        return None\n",
        "\n",
        "# Create a new DataFrame to hold the updated values\n",
        "updated_data = table_data.copy()\n",
        "\n",
        "# Add the 'RSI' column to the new DataFrame\n",
        "updated_data['RSI'] = None\n",
        "\n",
        "# Iterate through DataFrame rows and update 'RSI' column in the new DataFrame\n",
        "for index, row in updated_data.iterrows():\n",
        "    rsi_value = extract_rsi_from_url(row['URL'])\n",
        "    updated_data.at[index, 'RSI'] = rsi_value"
      ]
    },
    {
      "cell_type": "code",
      "execution_count": 11,
      "id": "eb9adde4-060d-4689-a73a-fdb2f7274901",
      "metadata": {
        "id": "eb9adde4-060d-4689-a73a-fdb2f7274901"
      },
      "outputs": [],
      "source": [
        "updated_data=updated_data.sort_values(by=['RSI']).reset_index(drop=True)"
      ]
    },
    {
      "cell_type": "code",
      "source": [
        "# List of columns to drop\n",
        "columns_to_drop = ['20SMA', 'Price_variation(20SMA)', 'Avgvol(3M)L', 'Avgvol(6)L', 'Avgvol(12M)L', 'URL']\n",
        "\n",
        "# Drop the specified columns from the DataFrame\n",
        "updated_data = updated_data.drop(columns=columns_to_drop)\n"
      ],
      "metadata": {
        "id": "wilobpz5-TW5"
      },
      "id": "wilobpz5-TW5",
      "execution_count": 15,
      "outputs": []
    },
    {
      "cell_type": "code",
      "source": [
        "updated_data"
      ],
      "metadata": {
        "colab": {
          "base_uri": "https://localhost:8080/",
          "height": 332
        },
        "id": "1pQYIp-Z-hUj",
        "outputId": "7c2a9721-c118-4ffd-8915-952e51160b25"
      },
      "id": "1pQYIp-Z-hUj",
      "execution_count": 16,
      "outputs": [
        {
          "output_type": "execute_result",
          "data": {
            "text/plain": [
              "  Invested      symbol Underlying Asset   Category   Price  prev.price  \\\n",
              "0        ❌    GOLDBEES             Gold  Commodity   49.98  Loading...   \n",
              "1        ❌   NIFTYBEES         Nifty 50    Indices  212.51  Loading...   \n",
              "2        ❌    BANKBEES       Nifty Bank     Sector  450.35  Loading...   \n",
              "3        ❌      MON100        Nasdaq100     Global  120.00  Loading...   \n",
              "4        ❌  PSUBNKBEES   Nifty PSU Bank     Sector   50.36  Loading...   \n",
              "5        ❌  PHARMABEES     Nifty Pharma     Sector   15.29  Loading...   \n",
              "6        ❌      ITBEES         Nifty IT     Sector   32.30  Loading...   \n",
              "7        ❌     CPSEETF             CPSE     Sector   47.55  Loading...   \n",
              "8        ❌  SILVERBEES           Silver  Commodity   72.55  Loading...   \n",
              "\n",
              "   previous_day(%)    RSI  \n",
              "0            -0.10  42.18  \n",
              "1            -0.59  43.27  \n",
              "2            -0.67  43.68  \n",
              "3            -2.10  43.75  \n",
              "4            -1.54  52.16  \n",
              "5            -0.91  52.58  \n",
              "6            -1.07  56.21  \n",
              "7            -0.83  59.04  \n",
              "8             0.01   60.2  "
            ],
            "text/html": [
              "\n",
              "  <div id=\"df-67d943b1-ed61-42b2-81d4-eb6f5e6bdde7\" class=\"colab-df-container\">\n",
              "    <div>\n",
              "<style scoped>\n",
              "    .dataframe tbody tr th:only-of-type {\n",
              "        vertical-align: middle;\n",
              "    }\n",
              "\n",
              "    .dataframe tbody tr th {\n",
              "        vertical-align: top;\n",
              "    }\n",
              "\n",
              "    .dataframe thead th {\n",
              "        text-align: right;\n",
              "    }\n",
              "</style>\n",
              "<table border=\"1\" class=\"dataframe\">\n",
              "  <thead>\n",
              "    <tr style=\"text-align: right;\">\n",
              "      <th></th>\n",
              "      <th>Invested</th>\n",
              "      <th>symbol</th>\n",
              "      <th>Underlying Asset</th>\n",
              "      <th>Category</th>\n",
              "      <th>Price</th>\n",
              "      <th>prev.price</th>\n",
              "      <th>previous_day(%)</th>\n",
              "      <th>RSI</th>\n",
              "    </tr>\n",
              "  </thead>\n",
              "  <tbody>\n",
              "    <tr>\n",
              "      <th>0</th>\n",
              "      <td>❌</td>\n",
              "      <td>GOLDBEES</td>\n",
              "      <td>Gold</td>\n",
              "      <td>Commodity</td>\n",
              "      <td>49.98</td>\n",
              "      <td>Loading...</td>\n",
              "      <td>-0.10</td>\n",
              "      <td>42.18</td>\n",
              "    </tr>\n",
              "    <tr>\n",
              "      <th>1</th>\n",
              "      <td>❌</td>\n",
              "      <td>NIFTYBEES</td>\n",
              "      <td>Nifty 50</td>\n",
              "      <td>Indices</td>\n",
              "      <td>212.51</td>\n",
              "      <td>Loading...</td>\n",
              "      <td>-0.59</td>\n",
              "      <td>43.27</td>\n",
              "    </tr>\n",
              "    <tr>\n",
              "      <th>2</th>\n",
              "      <td>❌</td>\n",
              "      <td>BANKBEES</td>\n",
              "      <td>Nifty Bank</td>\n",
              "      <td>Sector</td>\n",
              "      <td>450.35</td>\n",
              "      <td>Loading...</td>\n",
              "      <td>-0.67</td>\n",
              "      <td>43.68</td>\n",
              "    </tr>\n",
              "    <tr>\n",
              "      <th>3</th>\n",
              "      <td>❌</td>\n",
              "      <td>MON100</td>\n",
              "      <td>Nasdaq100</td>\n",
              "      <td>Global</td>\n",
              "      <td>120.00</td>\n",
              "      <td>Loading...</td>\n",
              "      <td>-2.10</td>\n",
              "      <td>43.75</td>\n",
              "    </tr>\n",
              "    <tr>\n",
              "      <th>4</th>\n",
              "      <td>❌</td>\n",
              "      <td>PSUBNKBEES</td>\n",
              "      <td>Nifty PSU Bank</td>\n",
              "      <td>Sector</td>\n",
              "      <td>50.36</td>\n",
              "      <td>Loading...</td>\n",
              "      <td>-1.54</td>\n",
              "      <td>52.16</td>\n",
              "    </tr>\n",
              "    <tr>\n",
              "      <th>5</th>\n",
              "      <td>❌</td>\n",
              "      <td>PHARMABEES</td>\n",
              "      <td>Nifty Pharma</td>\n",
              "      <td>Sector</td>\n",
              "      <td>15.29</td>\n",
              "      <td>Loading...</td>\n",
              "      <td>-0.91</td>\n",
              "      <td>52.58</td>\n",
              "    </tr>\n",
              "    <tr>\n",
              "      <th>6</th>\n",
              "      <td>❌</td>\n",
              "      <td>ITBEES</td>\n",
              "      <td>Nifty IT</td>\n",
              "      <td>Sector</td>\n",
              "      <td>32.30</td>\n",
              "      <td>Loading...</td>\n",
              "      <td>-1.07</td>\n",
              "      <td>56.21</td>\n",
              "    </tr>\n",
              "    <tr>\n",
              "      <th>7</th>\n",
              "      <td>❌</td>\n",
              "      <td>CPSEETF</td>\n",
              "      <td>CPSE</td>\n",
              "      <td>Sector</td>\n",
              "      <td>47.55</td>\n",
              "      <td>Loading...</td>\n",
              "      <td>-0.83</td>\n",
              "      <td>59.04</td>\n",
              "    </tr>\n",
              "    <tr>\n",
              "      <th>8</th>\n",
              "      <td>❌</td>\n",
              "      <td>SILVERBEES</td>\n",
              "      <td>Silver</td>\n",
              "      <td>Commodity</td>\n",
              "      <td>72.55</td>\n",
              "      <td>Loading...</td>\n",
              "      <td>0.01</td>\n",
              "      <td>60.2</td>\n",
              "    </tr>\n",
              "  </tbody>\n",
              "</table>\n",
              "</div>\n",
              "    <div class=\"colab-df-buttons\">\n",
              "\n",
              "  <div class=\"colab-df-container\">\n",
              "    <button class=\"colab-df-convert\" onclick=\"convertToInteractive('df-67d943b1-ed61-42b2-81d4-eb6f5e6bdde7')\"\n",
              "            title=\"Convert this dataframe to an interactive table.\"\n",
              "            style=\"display:none;\">\n",
              "\n",
              "  <svg xmlns=\"http://www.w3.org/2000/svg\" height=\"24px\" viewBox=\"0 -960 960 960\">\n",
              "    <path d=\"M120-120v-720h720v720H120Zm60-500h600v-160H180v160Zm220 220h160v-160H400v160Zm0 220h160v-160H400v160ZM180-400h160v-160H180v160Zm440 0h160v-160H620v160ZM180-180h160v-160H180v160Zm440 0h160v-160H620v160Z\"/>\n",
              "  </svg>\n",
              "    </button>\n",
              "\n",
              "  <style>\n",
              "    .colab-df-container {\n",
              "      display:flex;\n",
              "      gap: 12px;\n",
              "    }\n",
              "\n",
              "    .colab-df-convert {\n",
              "      background-color: #E8F0FE;\n",
              "      border: none;\n",
              "      border-radius: 50%;\n",
              "      cursor: pointer;\n",
              "      display: none;\n",
              "      fill: #1967D2;\n",
              "      height: 32px;\n",
              "      padding: 0 0 0 0;\n",
              "      width: 32px;\n",
              "    }\n",
              "\n",
              "    .colab-df-convert:hover {\n",
              "      background-color: #E2EBFA;\n",
              "      box-shadow: 0px 1px 2px rgba(60, 64, 67, 0.3), 0px 1px 3px 1px rgba(60, 64, 67, 0.15);\n",
              "      fill: #174EA6;\n",
              "    }\n",
              "\n",
              "    .colab-df-buttons div {\n",
              "      margin-bottom: 4px;\n",
              "    }\n",
              "\n",
              "    [theme=dark] .colab-df-convert {\n",
              "      background-color: #3B4455;\n",
              "      fill: #D2E3FC;\n",
              "    }\n",
              "\n",
              "    [theme=dark] .colab-df-convert:hover {\n",
              "      background-color: #434B5C;\n",
              "      box-shadow: 0px 1px 3px 1px rgba(0, 0, 0, 0.15);\n",
              "      filter: drop-shadow(0px 1px 2px rgba(0, 0, 0, 0.3));\n",
              "      fill: #FFFFFF;\n",
              "    }\n",
              "  </style>\n",
              "\n",
              "    <script>\n",
              "      const buttonEl =\n",
              "        document.querySelector('#df-67d943b1-ed61-42b2-81d4-eb6f5e6bdde7 button.colab-df-convert');\n",
              "      buttonEl.style.display =\n",
              "        google.colab.kernel.accessAllowed ? 'block' : 'none';\n",
              "\n",
              "      async function convertToInteractive(key) {\n",
              "        const element = document.querySelector('#df-67d943b1-ed61-42b2-81d4-eb6f5e6bdde7');\n",
              "        const dataTable =\n",
              "          await google.colab.kernel.invokeFunction('convertToInteractive',\n",
              "                                                    [key], {});\n",
              "        if (!dataTable) return;\n",
              "\n",
              "        const docLinkHtml = 'Like what you see? Visit the ' +\n",
              "          '<a target=\"_blank\" href=https://colab.research.google.com/notebooks/data_table.ipynb>data table notebook</a>'\n",
              "          + ' to learn more about interactive tables.';\n",
              "        element.innerHTML = '';\n",
              "        dataTable['output_type'] = 'display_data';\n",
              "        await google.colab.output.renderOutput(dataTable, element);\n",
              "        const docLink = document.createElement('div');\n",
              "        docLink.innerHTML = docLinkHtml;\n",
              "        element.appendChild(docLink);\n",
              "      }\n",
              "    </script>\n",
              "  </div>\n",
              "\n",
              "\n",
              "<div id=\"df-7ee0e6d6-a4c4-4c7d-ace3-8ed134ade4cc\">\n",
              "  <button class=\"colab-df-quickchart\" onclick=\"quickchart('df-7ee0e6d6-a4c4-4c7d-ace3-8ed134ade4cc')\"\n",
              "            title=\"Suggest charts.\"\n",
              "            style=\"display:none;\">\n",
              "\n",
              "<svg xmlns=\"http://www.w3.org/2000/svg\" height=\"24px\"viewBox=\"0 0 24 24\"\n",
              "     width=\"24px\">\n",
              "    <g>\n",
              "        <path d=\"M19 3H5c-1.1 0-2 .9-2 2v14c0 1.1.9 2 2 2h14c1.1 0 2-.9 2-2V5c0-1.1-.9-2-2-2zM9 17H7v-7h2v7zm4 0h-2V7h2v10zm4 0h-2v-4h2v4z\"/>\n",
              "    </g>\n",
              "</svg>\n",
              "  </button>\n",
              "\n",
              "<style>\n",
              "  .colab-df-quickchart {\n",
              "    background-color: #E8F0FE;\n",
              "    border: none;\n",
              "    border-radius: 50%;\n",
              "    cursor: pointer;\n",
              "    display: none;\n",
              "    fill: #1967D2;\n",
              "    height: 32px;\n",
              "    padding: 0 0 0 0;\n",
              "    width: 32px;\n",
              "  }\n",
              "\n",
              "  .colab-df-quickchart:hover {\n",
              "    background-color: #E2EBFA;\n",
              "    box-shadow: 0px 1px 2px rgba(60, 64, 67, 0.3), 0px 1px 3px 1px rgba(60, 64, 67, 0.15);\n",
              "    fill: #174EA6;\n",
              "  }\n",
              "\n",
              "  [theme=dark] .colab-df-quickchart {\n",
              "    background-color: #3B4455;\n",
              "    fill: #D2E3FC;\n",
              "  }\n",
              "\n",
              "  [theme=dark] .colab-df-quickchart:hover {\n",
              "    background-color: #434B5C;\n",
              "    box-shadow: 0px 1px 3px 1px rgba(0, 0, 0, 0.15);\n",
              "    filter: drop-shadow(0px 1px 2px rgba(0, 0, 0, 0.3));\n",
              "    fill: #FFFFFF;\n",
              "  }\n",
              "</style>\n",
              "\n",
              "  <script>\n",
              "    async function quickchart(key) {\n",
              "      const charts = await google.colab.kernel.invokeFunction(\n",
              "          'suggestCharts', [key], {});\n",
              "    }\n",
              "    (() => {\n",
              "      let quickchartButtonEl =\n",
              "        document.querySelector('#df-7ee0e6d6-a4c4-4c7d-ace3-8ed134ade4cc button');\n",
              "      quickchartButtonEl.style.display =\n",
              "        google.colab.kernel.accessAllowed ? 'block' : 'none';\n",
              "    })();\n",
              "  </script>\n",
              "</div>\n",
              "    </div>\n",
              "  </div>\n"
            ]
          },
          "metadata": {},
          "execution_count": 16
        }
      ]
    },
    {
      "cell_type": "code",
      "source": [
        "!jupyter serverextension enable voila --sys-prefix"
      ],
      "metadata": {
        "colab": {
          "base_uri": "https://localhost:8080/"
        },
        "id": "PN4c5Bw3BzW-",
        "outputId": "611602f4-9995-49ab-fb59-4919e999c06b"
      },
      "id": "PN4c5Bw3BzW-",
      "execution_count": 3,
      "outputs": [
        {
          "output_type": "stream",
          "name": "stdout",
          "text": [
            "Enabling: voila\n",
            "- Writing config: /usr/etc/jupyter\n",
            "    - Validating...\n",
            "      voila 0.5.1 \u001b[32mOK\u001b[0m\n"
          ]
        }
      ]
    },
    {
      "cell_type": "code",
      "source": [
        "!jupyter nbextension enable --py widgetsnbextension"
      ],
      "metadata": {
        "colab": {
          "base_uri": "https://localhost:8080/"
        },
        "id": "BsiRwLjZB4UQ",
        "outputId": "b131da70-26c8-496f-8720-17d9f8510d49"
      },
      "id": "BsiRwLjZB4UQ",
      "execution_count": 5,
      "outputs": [
        {
          "output_type": "stream",
          "name": "stdout",
          "text": [
            "Enabling notebook extension jupyter-js-widgets/extension...\n",
            "Paths used for configuration of notebook: \n",
            "    \t/root/.jupyter/nbconfig/notebook.json\n",
            "Paths used for configuration of notebook: \n",
            "    \t\n",
            "      - Validating: \u001b[32mOK\u001b[0m\n",
            "Paths used for configuration of notebook: \n",
            "    \t/root/.jupyter/nbconfig/notebook.json\n"
          ]
        }
      ]
    },
    {
      "cell_type": "code",
      "source": [
        "!jupyter nbextension enable --py --sys-prefix bqplot"
      ],
      "metadata": {
        "colab": {
          "base_uri": "https://localhost:8080/"
        },
        "id": "bh5jPvp2B74J",
        "outputId": "2d44502c-9941-4354-d3e6-739dc7183dd2"
      },
      "id": "bh5jPvp2B74J",
      "execution_count": 6,
      "outputs": [
        {
          "output_type": "stream",
          "name": "stdout",
          "text": [
            "Traceback (most recent call last):\n",
            "  File \"/usr/local/bin/jupyter-nbextension\", line 8, in <module>\n",
            "    sys.exit(main())\n",
            "  File \"/usr/local/lib/python3.10/dist-packages/jupyter_core/application.py\", line 285, in launch_instance\n",
            "    return super().launch_instance(argv=argv, **kwargs)\n",
            "  File \"/usr/local/lib/python3.10/dist-packages/traitlets/config/application.py\", line 992, in launch_instance\n",
            "    app.start()\n",
            "  File \"/usr/local/lib/python3.10/dist-packages/notebook/nbextensions.py\", line 972, in start\n",
            "    super().start()\n",
            "  File \"/usr/local/lib/python3.10/dist-packages/jupyter_core/application.py\", line 274, in start\n",
            "    self.subapp.start()\n",
            "  File \"/usr/local/lib/python3.10/dist-packages/notebook/nbextensions.py\", line 882, in start\n",
            "    self.toggle_nbextension_python(self.extra_args[0])\n",
            "  File \"/usr/local/lib/python3.10/dist-packages/notebook/nbextensions.py\", line 855, in toggle_nbextension_python\n",
            "    return toggle(module,\n",
            "  File \"/usr/local/lib/python3.10/dist-packages/notebook/nbextensions.py\", line 470, in enable_nbextension_python\n",
            "    return _set_nbextension_state_python(True, module, user, sys_prefix,\n",
            "  File \"/usr/local/lib/python3.10/dist-packages/notebook/nbextensions.py\", line 368, in _set_nbextension_state_python\n",
            "    m, nbexts = _get_nbextension_metadata(module)\n",
            "  File \"/usr/local/lib/python3.10/dist-packages/notebook/nbextensions.py\", line 1107, in _get_nbextension_metadata\n",
            "    m = import_item(module)\n",
            "  File \"/usr/local/lib/python3.10/dist-packages/traitlets/utils/importstring.py\", line 38, in import_item\n",
            "    return __import__(parts[0])\n",
            "ModuleNotFoundError: No module named 'bqplot'\n"
          ]
        }
      ]
    },
    {
      "cell_type": "code",
      "source": [
        "from google.colab import drive\n",
        "drive.mount('/content/drive')"
      ],
      "metadata": {
        "colab": {
          "base_uri": "https://localhost:8080/"
        },
        "id": "hkqXdBVD1Xdz",
        "outputId": "4c4078b8-dc37-4113-83ff-5eb3474402ef"
      },
      "id": "hkqXdBVD1Xdz",
      "execution_count": 17,
      "outputs": [
        {
          "output_type": "stream",
          "name": "stdout",
          "text": [
            "Drive already mounted at /content/drive; to attempt to forcibly remount, call drive.mount(\"/content/drive\", force_remount=True).\n"
          ]
        }
      ]
    },
    {
      "cell_type": "code",
      "source": [
        "# Save DataFrame to a CSV file\n",
        "csv_file_path = '/content/drive/MyDrive/python_data/etf_data.csv'\n",
        "updated_data.to_csv(csv_file_path, index=False)\n"
      ],
      "metadata": {
        "id": "-QPgoqsq1pYG"
      },
      "id": "-QPgoqsq1pYG",
      "execution_count": 18,
      "outputs": []
    }
  ],
  "metadata": {
    "kernelspec": {
      "display_name": "Python 3",
      "name": "python3"
    },
    "language_info": {
      "codemirror_mode": {
        "name": "ipython",
        "version": 3
      },
      "file_extension": ".py",
      "mimetype": "text/x-python",
      "name": "python",
      "nbconvert_exporter": "python",
      "pygments_lexer": "ipython3",
      "version": "3.10.10"
    },
    "colab": {
      "provenance": [],
      "include_colab_link": true
    }
  },
  "nbformat": 4,
  "nbformat_minor": 5
}